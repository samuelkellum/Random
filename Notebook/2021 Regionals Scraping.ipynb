{
 "cells": [
  {
   "cell_type": "code",
   "execution_count": 1,
   "metadata": {},
   "outputs": [],
   "source": [
    "# Load requests\n",
    "import requests\n",
    "# Load BeautiulSoup\n",
    "from bs4 import BeautifulSoup\n",
    "# Load Regular Expression Library\n",
    "import re\n",
    "\n",
    "# Load Numpy\n",
    "import numpy as np\n",
    "# Load MatPlotLib\n",
    "import matplotlib\n",
    "import matplotlib.pyplot as plt\n",
    "# Load Pandas\n",
    "import pandas as pd\n",
    "\n",
    "# This lets us show plots inline and also save PDF plots if we want them\n",
    "%matplotlib inline\n",
    "from matplotlib.backends.backend_pdf import PdfPages"
   ]
  },
  {
   "cell_type": "code",
   "execution_count": 2,
   "metadata": {},
   "outputs": [
    {
     "name": "stdout",
     "output_type": "stream",
     "text": [
      "1 200\n",
      "2 200\n",
      "3 200\n",
      "4 200\n",
      "5 200\n",
      "6 200\n",
      "7 200\n",
      "8 200\n",
      "9 200\n"
     ]
    }
   ],
   "source": [
    "regionals_urls = ['https://www.tfrrs.org/results/xc/18935/NCAA_Division_I_Mountain_Region_Cross_Country_Championships',\n",
    "                 'https://www.tfrrs.org/results/xc/18939/NCAA_Division_I_South_Central_Region_Cross_Country_Championships',\n",
    "                 'https://www.tfrrs.org/results/xc/18928/NCAA_Division_I_Mid-Atlantic_Region_Cross_Country_Championships',\n",
    "                 'https://www.tfrrs.org/results/xc/18936/NCAA_Division_I_Northeast_Region_Cross_Country_Championships',\n",
    "                 'https://www.tfrrs.org/results/xc/19290/NCAA_DI_Southeast_Regional',\n",
    "                 'https://www.tfrrs.org/results/xc/19291/NCAA_DI_Great_Lakes_Regional',\n",
    "                 'https://www.tfrrs.org/results/xc/18929/NCAA_Division_I_Midwest_Region_Cross_Country_Championships',\n",
    "                 'https://www.tfrrs.org/results/xc/19292/D1_West_XC_Regional',\n",
    "                 'https://www.tfrrs.org/results/xc/18937/NCAA_Division_I_South_Region_Cross_Country_Championships']\n",
    "#Learned to do this from https://stackoverflow.com/questions/27652543/how-to-use-python-requests-to-fake-a-browser-visit-a-k-a-and-generate-user-agent\n",
    "headers = {'User-Agent': 'Mozilla/5.0 (Macintosh; Intel Mac OS X 10_10_1) AppleWebKit/537.36 (KHTML, like Gecko) Chrome/39.0.2171.95 Safari/537.36'}\n",
    "gets = []\n",
    "for i in range(len(regionals_urls)):\n",
    "    gets.append(requests.get(regionals_urls[i], headers=headers))\n",
    "    print(i + 1 , gets[i].status_code)"
   ]
  },
  {
   "cell_type": "code",
   "execution_count": 3,
   "metadata": {},
   "outputs": [],
   "source": [
    "soups = []\n",
    "prettys = []\n",
    "dfs = []\n",
    "for i in range(len(regionals_urls)):\n",
    "    soups.append(BeautifulSoup(gets[i].content, 'html.parser'))\n",
    "    prettys.append(soups[i].prettify())\n",
    "    dfs.append(pd.read_html(prettys[i]))"
   ]
  },
  {
   "cell_type": "code",
   "execution_count": 4,
   "metadata": {},
   "outputs": [],
   "source": [
    "women_team = []\n",
    "women_ind = []\n",
    "men_team = []\n",
    "men_ind = []\n",
    "for i in range(len(dfs)):\n",
    "    women_team.append(dfs[i][0])\n",
    "    women_ind.append(dfs[i][1])\n",
    "    men_team.append(dfs[i][2])\n",
    "    men_ind.append(dfs[i][3])\n",
    "\n",
    "men_team[1] = men_team[1].drop(index=21)"
   ]
  },
  {
   "cell_type": "code",
   "execution_count": 5,
   "metadata": {},
   "outputs": [],
   "source": [
    "mountain_men_team = men_team[0]\n",
    "south_central_men_team = men_team[1]\n",
    "mid_atlantic_men_team = men_team[2]\n",
    "northeast_men_team = men_team[3]\n",
    "southeast_men_team = men_team[4]\n",
    "great_lakes_men_team = men_team[5]\n",
    "midwest_men_team = men_team[6]\n",
    "west_men_team = men_team[7]\n",
    "south_men_team = men_team[8]"
   ]
  },
  {
   "cell_type": "code",
   "execution_count": 6,
   "metadata": {},
   "outputs": [],
   "source": [
    "mountain_men_ind = men_ind[0]\n",
    "south_central_men_ind = men_ind[1]\n",
    "mid_atlantic_men_ind = men_ind[2]\n",
    "northeast_men_ind = men_ind[3]\n",
    "southeast_men_ind = men_ind[4]\n",
    "great_lakes_men_ind = men_ind[5]\n",
    "midwest_men_ind = men_ind[6]\n",
    "west_men_ind = men_ind[7]\n",
    "south_men_ind = men_ind[8]"
   ]
  },
  {
   "cell_type": "code",
   "execution_count": 7,
   "metadata": {},
   "outputs": [],
   "source": [
    "mountain_women_team = women_team[0]\n",
    "south_central_women_team = women_team[1]\n",
    "mid_atlantic_women_team = women_team[2]\n",
    "northeast_women_team = women_team[3]\n",
    "southeast_women_team = women_team[4]\n",
    "great_lakes_women_team = women_team[5]\n",
    "midwest_women_team = women_team[6]\n",
    "west_women_team = women_team[7]\n",
    "south_women_team = women_team[8]"
   ]
  },
  {
   "cell_type": "code",
   "execution_count": 8,
   "metadata": {},
   "outputs": [],
   "source": [
    "mountain_women_ind = women_ind[0]\n",
    "south_central_women_ind = women_ind[1]\n",
    "mid_atlantic_women_ind = women_ind[2]\n",
    "northeast_women_ind = women_ind[3]\n",
    "southeast_women_ind = women_ind[4]\n",
    "great_lakes_women_ind = women_ind[5]\n",
    "midwest_women_ind = women_ind[6]\n",
    "west_women_ind = women_ind[7]\n",
    "south_women_ind = women_ind[8]"
   ]
  },
  {
   "cell_type": "code",
   "execution_count": null,
   "metadata": {},
   "outputs": [],
   "source": []
  },
  {
   "cell_type": "code",
   "execution_count": null,
   "metadata": {},
   "outputs": [],
   "source": []
  },
  {
   "cell_type": "code",
   "execution_count": null,
   "metadata": {},
   "outputs": [],
   "source": []
  },
  {
   "cell_type": "code",
   "execution_count": null,
   "metadata": {},
   "outputs": [],
   "source": []
  },
  {
   "cell_type": "code",
   "execution_count": null,
   "metadata": {},
   "outputs": [],
   "source": []
  },
  {
   "cell_type": "code",
   "execution_count": null,
   "metadata": {},
   "outputs": [],
   "source": []
  },
  {
   "cell_type": "code",
   "execution_count": null,
   "metadata": {},
   "outputs": [],
   "source": []
  },
  {
   "cell_type": "code",
   "execution_count": null,
   "metadata": {},
   "outputs": [],
   "source": []
  }
 ],
 "metadata": {
  "kernelspec": {
   "display_name": "Python 3",
   "language": "python",
   "name": "python3"
  },
  "language_info": {
   "codemirror_mode": {
    "name": "ipython",
    "version": 3
   },
   "file_extension": ".py",
   "mimetype": "text/x-python",
   "name": "python",
   "nbconvert_exporter": "python",
   "pygments_lexer": "ipython3",
   "version": "3.8.5"
  }
 },
 "nbformat": 4,
 "nbformat_minor": 4
}
