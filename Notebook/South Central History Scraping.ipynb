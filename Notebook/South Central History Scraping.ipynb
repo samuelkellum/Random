{
 "cells": [
  {
   "cell_type": "code",
   "execution_count": 1,
   "metadata": {},
   "outputs": [],
   "source": [
    "# Load requests\n",
    "import requests\n",
    "# Load BeautiulSoup\n",
    "from bs4 import BeautifulSoup\n",
    "# Load Regular Expression Library\n",
    "import re\n",
    "\n",
    "# Load Numpy\n",
    "import numpy as np\n",
    "# Load MatPlotLib\n",
    "import matplotlib\n",
    "import matplotlib.pyplot as plt\n",
    "# Load Pandas\n",
    "import pandas as pd\n",
    "\n",
    "# This lets us show plots inline and also save PDF plots if we want them\n",
    "%matplotlib inline\n",
    "from matplotlib.backends.backend_pdf import PdfPages\n",
    "\n",
    "#Ignore annoying ass warnings\n",
    "import warnings\n",
    "warnings.filterwarnings(\"ignore\")"
   ]
  },
  {
   "cell_type": "code",
   "execution_count": 2,
   "metadata": {},
   "outputs": [],
   "source": [
    "#Top = women (0,1,5,6,8)\n",
    "url2021 = 'https://www.tfrrs.org/results/xc/18939/NCAA_Division_I_South_Central_Region_Cross_Country_Championships'\n",
    "url2019 = 'https://www.tfrrs.org/results/xc/16720/NCAA_Division_I_South_Central_Region_Cross_Country_Championships'\n",
    "url2015 = 'https://www.tfrrs.org/results/xc/9330/NCAA_Division_I_South_Central_Region_Cross_Country_Championships'\n",
    "url2014 = 'https://www.tfrrs.org/results/xc/7253/NCAA_Division_I_South_Central_Region_Cross_Country_Championships'\n",
    "url2012 = 'https://www.tfrrs.org/results/xc/4805/NCAA_Division_I_South_Central_Region_Cross_Country_Championships'\n",
    "\n",
    "#Top = men (2,3,4,7)\n",
    "url2018 = 'https://www.tfrrs.org/results/xc/15018/NCAA_Division_I_South_Central_Region_Cross_Country_Championships'\n",
    "url2017 = 'https://www.tfrrs.org/results/xc/13410/NCAA_Division_I_South_Central_Region_Cross_Country_Championships'\n",
    "url2016 = 'https://www.tfrrs.org/results/xc/11251/NCAA_Division_I_South_Central_Region_Cross_Country_Championships'\n",
    "url2013 = 'https://www.tfrrs.org/results/xc/6010/NCAA_Division_I_South_Central_Region_Cross_Country_Championships'\n"
   ]
  },
  {
   "cell_type": "code",
   "execution_count": 3,
   "metadata": {},
   "outputs": [
    {
     "name": "stdout",
     "output_type": "stream",
     "text": [
      "1 200\n",
      "2 200\n",
      "3 200\n",
      "4 200\n",
      "5 200\n",
      "6 200\n",
      "7 200\n",
      "8 200\n",
      "9 200\n"
     ]
    }
   ],
   "source": [
    "years = 9\n",
    "#Learned to do this from https://stackoverflow.com/questions/27652543/how-to-use-python-requests-to-fake-a-browser-visit-a-k-a-and-generate-user-agent\n",
    "headers = {'User-Agent': 'Mozilla/5.0 (Macintosh; Intel Mac OS X 10_10_1) AppleWebKit/537.36 (KHTML, like Gecko) Chrome/39.0.2171.95 Safari/537.36'}\n",
    "urls = [url2021, url2019, url2018, url2017, url2016, url2015, url2014, url2013, url2012]\n",
    "gets = []\n",
    "for i in range(years):\n",
    "    gets.append(requests.get(urls[i], headers=headers))\n",
    "    print(i + 1 , gets[i].status_code)"
   ]
  },
  {
   "cell_type": "code",
   "execution_count": 4,
   "metadata": {},
   "outputs": [],
   "source": [
    "soups = []\n",
    "prettys = []\n",
    "dfs = []\n",
    "for i in range(years):\n",
    "    soups.append(BeautifulSoup(gets[i].content, 'html.parser'))\n",
    "    prettys.append(soups[i].prettify())\n",
    "    dfs.append(pd.read_html(prettys[i]))"
   ]
  },
  {
   "cell_type": "code",
   "execution_count": 5,
   "metadata": {},
   "outputs": [],
   "source": [
    "women_team = []\n",
    "women_ind = []\n",
    "men_team = []\n",
    "men_ind = []\n",
    "\n",
    "women_team.append(dfs[0][0]) #2021\n",
    "women_team.append(dfs[1][0]) #2019\n",
    "women_team.append(dfs[2][2]) #2018\n",
    "women_team.append(dfs[3][2]) #2017\n",
    "women_team.append(dfs[4][2]) #2016\n",
    "women_team.append(dfs[5][0]) #2015\n",
    "women_team.append(dfs[6][0]) #2014\n",
    "women_team.append(dfs[7][2]) #2013\n",
    "women_team.append(dfs[8][0]) #2012\n",
    "\n",
    "women_ind.append(dfs[0][1])\n",
    "women_ind.append(dfs[1][1])\n",
    "women_ind.append(dfs[2][3])\n",
    "women_ind.append(dfs[3][3])\n",
    "women_ind.append(dfs[4][3])\n",
    "women_ind.append(dfs[5][1])\n",
    "women_ind.append(dfs[6][1])\n",
    "women_ind.append(dfs[7][3])\n",
    "women_ind.append(dfs[8][1])\n",
    "\n",
    "men_team.append(dfs[0][2])\n",
    "men_team.append(dfs[1][2])\n",
    "men_team.append(dfs[2][0])\n",
    "men_team.append(dfs[3][0])\n",
    "men_team.append(dfs[4][0])\n",
    "men_team.append(dfs[5][2])\n",
    "men_team.append(dfs[6][2])\n",
    "men_team.append(dfs[7][0])\n",
    "men_team.append(dfs[8][2])\n",
    "\n",
    "men_ind.append(dfs[0][3])\n",
    "men_ind.append(dfs[1][3])\n",
    "men_ind.append(dfs[2][1])\n",
    "men_ind.append(dfs[3][1])\n",
    "men_ind.append(dfs[4][1])\n",
    "men_ind.append(dfs[5][3])\n",
    "men_ind.append(dfs[6][3])\n",
    "men_ind.append(dfs[7][1])\n",
    "men_ind.append(dfs[8][3])\n",
    "\n",
    "\n",
    "\n",
    "\n",
    "\n"
   ]
  },
  {
   "cell_type": "code",
   "execution_count": 6,
   "metadata": {},
   "outputs": [
    {
     "data": {
      "text/plain": [
       "\"for i in range(len(men_ind)):\\n    women_team[i] = women_team[i].set_index('PL')\\n    women_ind[i] = women_ind[i].set_index('PL')\\n    men_team[i] = men_team[i].set_index('PL')\\n    men_ind[i] = men_ind[i].set_index('PL')\\n\""
      ]
     },
     "execution_count": 6,
     "metadata": {},
     "output_type": "execute_result"
    }
   ],
   "source": [
    "'''for i in range(len(men_ind)):\n",
    "    women_team[i] = women_team[i].set_index('PL')\n",
    "    women_ind[i] = women_ind[i].set_index('PL')\n",
    "    men_team[i] = men_team[i].set_index('PL')\n",
    "    men_ind[i] = men_ind[i].set_index('PL')\n",
    "'''"
   ]
  },
  {
   "cell_type": "code",
   "execution_count": 7,
   "metadata": {},
   "outputs": [],
   "source": [
    "women_team_2021 = women_team[0]\n",
    "women_team_2021['Year'] = 2021\n",
    "women_team_2019 = women_team[1]\n",
    "women_team_2019['Year'] = 2019\n",
    "women_team_2018 = women_team[2]\n",
    "women_team_2018['Year'] = 2018\n",
    "women_team_2017 = women_team[3]\n",
    "women_team_2017['Year'] = 2017\n",
    "women_team_2016 = women_team[4]\n",
    "women_team_2016['Year'] = 2016\n",
    "women_team_2015 = women_team[5]\n",
    "women_team_2015['Year'] = 2015\n",
    "women_team_2014 = women_team[6]\n",
    "women_team_2014['Year'] = 2014\n",
    "women_team_2013 = women_team[7]\n",
    "women_team_2013['Year'] = 2013\n",
    "women_team_2012 = women_team[8]\n",
    "women_team_2012['Year'] = 2012\n",
    "\n",
    "women_ind_2021 = women_ind[0]\n",
    "women_ind_2021['Year'] = 2021\n",
    "women_ind_2019 = women_ind[1]\n",
    "women_ind_2019['Year'] = 2019\n",
    "women_ind_2018 = women_ind[2]\n",
    "women_ind_2018['Year'] = 2018\n",
    "women_ind_2017 = women_ind[3]\n",
    "women_ind_2017['Year'] = 2017\n",
    "women_ind_2016 = women_ind[4]\n",
    "women_ind_2016['Year'] = 2016\n",
    "women_ind_2015 = women_ind[5]\n",
    "women_ind_2015['Year'] = 2015\n",
    "women_ind_2014 = women_ind[6]\n",
    "women_ind_2014['Year'] = 2014\n",
    "women_ind_2013 = women_ind[7]\n",
    "women_ind_2013['Year'] = 2013\n",
    "women_ind_2012 = women_ind[8]\n",
    "women_ind_2012['Year'] = 2012\n",
    "\n",
    "men_team_2021 = men_team[0]\n",
    "men_team_2021['Year'] = 2021\n",
    "men_team_2019 = men_team[1]\n",
    "men_team_2019['Year'] = 2019\n",
    "men_team_2018 = men_team[2]\n",
    "men_team_2018['Year'] = 2018\n",
    "men_team_2017 = men_team[3]\n",
    "men_team_2017['Year'] = 2017\n",
    "men_team_2016 = men_team[4]\n",
    "men_team_2016['Year'] = 2016\n",
    "men_team_2015 = men_team[5]\n",
    "men_team_2015['Year'] = 2015\n",
    "men_team_2014 = men_team[6]\n",
    "men_team_2014['Year'] = 2014\n",
    "men_team_2013 = men_team[7]\n",
    "men_team_2013['Year'] = 2013\n",
    "men_team_2012 = men_team[8]\n",
    "men_team_2012['Year'] = 2012\n",
    "\n",
    "men_ind_2021 = men_ind[0]\n",
    "men_ind_2021['Year'] = 2021\n",
    "men_ind_2019 = men_ind[1]\n",
    "men_ind_2019['Year'] = 2019\n",
    "men_ind_2018 = men_ind[2]\n",
    "men_ind_2018['Year'] = 2018\n",
    "men_ind_2017 = men_ind[3]\n",
    "men_ind_2017['Year'] = 2017\n",
    "men_ind_2016 = men_ind[4]\n",
    "men_ind_2016['Year'] = 2016\n",
    "men_ind_2015 = men_ind[5]\n",
    "men_ind_2015['Year'] = 2015\n",
    "men_ind_2014 = men_ind[6]\n",
    "men_ind_2014['Year'] = 2014\n",
    "men_ind_2013 = men_ind[7]\n",
    "men_ind_2013['Year'] = 2013\n",
    "men_ind_2012 = men_ind[8]\n",
    "men_ind_2012['Year'] = 2012"
   ]
  },
  {
   "cell_type": "code",
   "execution_count": 8,
   "metadata": {},
   "outputs": [],
   "source": [
    "men_team_combined = pd.concat([men_team_2021, men_team_2019,\n",
    "                              men_team_2018, men_team_2017,\n",
    "                              men_team_2016, men_team_2015,\n",
    "                              men_team_2014, men_team_2013,\n",
    "                              men_team_2012], axis=0)\n",
    "men_third_place_team = men_team_combined[men_team_combined[\"PL\"] == 3]"
   ]
  },
  {
   "cell_type": "code",
   "execution_count": 9,
   "metadata": {},
   "outputs": [],
   "source": [
    "pd.options.display.float_format = '{:,.0f}'.format"
   ]
  },
  {
   "cell_type": "code",
   "execution_count": 10,
   "metadata": {},
   "outputs": [
    {
     "data": {
      "text/html": [
       "<div>\n",
       "<style scoped>\n",
       "    .dataframe tbody tr th:only-of-type {\n",
       "        vertical-align: middle;\n",
       "    }\n",
       "\n",
       "    .dataframe tbody tr th {\n",
       "        vertical-align: top;\n",
       "    }\n",
       "\n",
       "    .dataframe thead th {\n",
       "        text-align: right;\n",
       "    }\n",
       "</style>\n",
       "<table border=\"1\" class=\"dataframe\">\n",
       "  <thead>\n",
       "    <tr style=\"text-align: right;\">\n",
       "      <th></th>\n",
       "      <th>PL</th>\n",
       "      <th>Team</th>\n",
       "      <th>Total Time</th>\n",
       "      <th>Avg. Time</th>\n",
       "      <th>Score</th>\n",
       "      <th>1</th>\n",
       "      <th>2</th>\n",
       "      <th>3</th>\n",
       "      <th>4</th>\n",
       "      <th>5</th>\n",
       "      <th>6</th>\n",
       "      <th>7</th>\n",
       "      <th>Year</th>\n",
       "    </tr>\n",
       "  </thead>\n",
       "  <tbody>\n",
       "    <tr>\n",
       "      <th>2</th>\n",
       "      <td>3</td>\n",
       "      <td>Arkansas State</td>\n",
       "      <td>2:39:47</td>\n",
       "      <td>31:57</td>\n",
       "      <td>166</td>\n",
       "      <td>8</td>\n",
       "      <td>28</td>\n",
       "      <td>36</td>\n",
       "      <td>41</td>\n",
       "      <td>53</td>\n",
       "      <td>61</td>\n",
       "      <td>nan</td>\n",
       "      <td>2021</td>\n",
       "    </tr>\n",
       "    <tr>\n",
       "      <th>2</th>\n",
       "      <td>3</td>\n",
       "      <td>Texas A&amp;M</td>\n",
       "      <td>2:35:32</td>\n",
       "      <td>31:06</td>\n",
       "      <td>128</td>\n",
       "      <td>9</td>\n",
       "      <td>11</td>\n",
       "      <td>25</td>\n",
       "      <td>31</td>\n",
       "      <td>52</td>\n",
       "      <td>59</td>\n",
       "      <td>87</td>\n",
       "      <td>2019</td>\n",
       "    </tr>\n",
       "    <tr>\n",
       "      <th>2</th>\n",
       "      <td>3</td>\n",
       "      <td>Texas A&amp;M</td>\n",
       "      <td>2:43:47</td>\n",
       "      <td>32:45</td>\n",
       "      <td>135</td>\n",
       "      <td>21</td>\n",
       "      <td>22</td>\n",
       "      <td>28</td>\n",
       "      <td>30</td>\n",
       "      <td>34</td>\n",
       "      <td>41</td>\n",
       "      <td>56</td>\n",
       "      <td>2018</td>\n",
       "    </tr>\n",
       "    <tr>\n",
       "      <th>2</th>\n",
       "      <td>3</td>\n",
       "      <td>Texas A&amp;M</td>\n",
       "      <td>2:33:32</td>\n",
       "      <td>30:42</td>\n",
       "      <td>98</td>\n",
       "      <td>4</td>\n",
       "      <td>6</td>\n",
       "      <td>23</td>\n",
       "      <td>27</td>\n",
       "      <td>38</td>\n",
       "      <td>64</td>\n",
       "      <td>117</td>\n",
       "      <td>2017</td>\n",
       "    </tr>\n",
       "    <tr>\n",
       "      <th>2</th>\n",
       "      <td>3</td>\n",
       "      <td>UT-Arlington</td>\n",
       "      <td>2:36:16</td>\n",
       "      <td>31:15</td>\n",
       "      <td>135</td>\n",
       "      <td>8</td>\n",
       "      <td>9</td>\n",
       "      <td>17</td>\n",
       "      <td>29</td>\n",
       "      <td>72</td>\n",
       "      <td>80</td>\n",
       "      <td>nan</td>\n",
       "      <td>2016</td>\n",
       "    </tr>\n",
       "    <tr>\n",
       "      <th>2</th>\n",
       "      <td>3</td>\n",
       "      <td>Texas A&amp;M</td>\n",
       "      <td>2:33:38</td>\n",
       "      <td>30:43</td>\n",
       "      <td>85</td>\n",
       "      <td>10</td>\n",
       "      <td>11</td>\n",
       "      <td>13</td>\n",
       "      <td>23</td>\n",
       "      <td>28</td>\n",
       "      <td>31</td>\n",
       "      <td>nan</td>\n",
       "      <td>2015</td>\n",
       "    </tr>\n",
       "    <tr>\n",
       "      <th>2</th>\n",
       "      <td>3</td>\n",
       "      <td>Lamar</td>\n",
       "      <td>2:31:34</td>\n",
       "      <td>30:18</td>\n",
       "      <td>106</td>\n",
       "      <td>3</td>\n",
       "      <td>12</td>\n",
       "      <td>24</td>\n",
       "      <td>30</td>\n",
       "      <td>37</td>\n",
       "      <td>40</td>\n",
       "      <td>100</td>\n",
       "      <td>2014</td>\n",
       "    </tr>\n",
       "    <tr>\n",
       "      <th>2</th>\n",
       "      <td>3</td>\n",
       "      <td>Lamar</td>\n",
       "      <td>2:34:28</td>\n",
       "      <td>30:53</td>\n",
       "      <td>110</td>\n",
       "      <td>5</td>\n",
       "      <td>11</td>\n",
       "      <td>27</td>\n",
       "      <td>29</td>\n",
       "      <td>38</td>\n",
       "      <td>94</td>\n",
       "      <td>nan</td>\n",
       "      <td>2013</td>\n",
       "    </tr>\n",
       "    <tr>\n",
       "      <th>2</th>\n",
       "      <td>3</td>\n",
       "      <td>Texas A&amp;M</td>\n",
       "      <td>2:35:14</td>\n",
       "      <td>31:02</td>\n",
       "      <td>93</td>\n",
       "      <td>1</td>\n",
       "      <td>13</td>\n",
       "      <td>18</td>\n",
       "      <td>25</td>\n",
       "      <td>36</td>\n",
       "      <td>72</td>\n",
       "      <td>88</td>\n",
       "      <td>2012</td>\n",
       "    </tr>\n",
       "  </tbody>\n",
       "</table>\n",
       "</div>"
      ],
      "text/plain": [
       "   PL            Team Total Time Avg. Time Score  1  2  3  4  5  6   7  Year\n",
       "2   3  Arkansas State    2:39:47     31:57   166  8 28 36 41 53 61 nan  2021\n",
       "2   3       Texas A&M    2:35:32     31:06   128  9 11 25 31 52 59  87  2019\n",
       "2   3       Texas A&M    2:43:47     32:45   135 21 22 28 30 34 41  56  2018\n",
       "2   3       Texas A&M    2:33:32     30:42    98  4  6 23 27 38 64 117  2017\n",
       "2   3    UT-Arlington    2:36:16     31:15   135  8  9 17 29 72 80 nan  2016\n",
       "2   3       Texas A&M    2:33:38     30:43    85 10 11 13 23 28 31 nan  2015\n",
       "2   3           Lamar    2:31:34     30:18   106  3 12 24 30 37 40 100  2014\n",
       "2   3           Lamar    2:34:28     30:53   110  5 11 27 29 38 94 nan  2013\n",
       "2   3       Texas A&M    2:35:14     31:02    93  1 13 18 25 36 72  88  2012"
      ]
     },
     "execution_count": 10,
     "metadata": {},
     "output_type": "execute_result"
    }
   ],
   "source": [
    "men_third_place_team"
   ]
  },
  {
   "cell_type": "code",
   "execution_count": 11,
   "metadata": {},
   "outputs": [
    {
     "data": {
      "text/plain": [
       "7.666666666666667"
      ]
     },
     "execution_count": 11,
     "metadata": {},
     "output_type": "execute_result"
    }
   ],
   "source": [
    "men_third_place_team[\"1\"].mean()"
   ]
  },
  {
   "cell_type": "code",
   "execution_count": 12,
   "metadata": {},
   "outputs": [
    {
     "data": {
      "text/plain": [
       "13.666666666666666"
      ]
     },
     "execution_count": 12,
     "metadata": {},
     "output_type": "execute_result"
    }
   ],
   "source": [
    "men_third_place_team[\"2\"].mean()"
   ]
  },
  {
   "cell_type": "code",
   "execution_count": 13,
   "metadata": {},
   "outputs": [
    {
     "data": {
      "text/plain": [
       "23.444444444444443"
      ]
     },
     "execution_count": 13,
     "metadata": {},
     "output_type": "execute_result"
    }
   ],
   "source": [
    "men_third_place_team[\"3\"].mean()"
   ]
  },
  {
   "cell_type": "code",
   "execution_count": 14,
   "metadata": {},
   "outputs": [
    {
     "data": {
      "text/plain": [
       "29.444444444444443"
      ]
     },
     "execution_count": 14,
     "metadata": {},
     "output_type": "execute_result"
    }
   ],
   "source": [
    "men_third_place_team[\"4\"].mean()"
   ]
  },
  {
   "cell_type": "code",
   "execution_count": 15,
   "metadata": {},
   "outputs": [
    {
     "data": {
      "text/plain": [
       "43.111111111111114"
      ]
     },
     "execution_count": 15,
     "metadata": {},
     "output_type": "execute_result"
    }
   ],
   "source": [
    "men_third_place_team[\"5\"].mean()"
   ]
  },
  {
   "cell_type": "code",
   "execution_count": 16,
   "metadata": {},
   "outputs": [
    {
     "data": {
      "text/plain": [
       "60.22222222222222"
      ]
     },
     "execution_count": 16,
     "metadata": {},
     "output_type": "execute_result"
    }
   ],
   "source": [
    "men_third_place_team[\"6\"].mean()"
   ]
  },
  {
   "cell_type": "code",
   "execution_count": 17,
   "metadata": {},
   "outputs": [
    {
     "data": {
      "text/plain": [
       "89.6"
      ]
     },
     "execution_count": 17,
     "metadata": {},
     "output_type": "execute_result"
    }
   ],
   "source": [
    "men_third_place_team[\"7\"].mean()"
   ]
  },
  {
   "cell_type": "code",
   "execution_count": 18,
   "metadata": {},
   "outputs": [],
   "source": [
    "men_third_place_team[\"avg_time_seconds\"] = (men_third_place_team[\"Avg. Time\"].str[0:2].astype(int) * 60) + men_third_place_team[\"Avg. Time\"].str[3:].astype(int) "
   ]
  },
  {
   "cell_type": "code",
   "execution_count": 19,
   "metadata": {},
   "outputs": [],
   "source": [
    "men_third_place_team['minutes'] = men_third_place_team[\"avg_time_seconds\"] // 60\n",
    "men_third_place_team['seconds'] = men_third_place_team[\"avg_time_seconds\"] % 60"
   ]
  },
  {
   "cell_type": "code",
   "execution_count": 20,
   "metadata": {},
   "outputs": [
    {
     "name": "stdout",
     "output_type": "stream",
     "text": [
      "31:11\n"
     ]
    }
   ],
   "source": [
    "print(str(int(men_third_place_team.avg_time_seconds.mean() // 60)) + \":\" + str(int(men_third_place_team.avg_time_seconds.mean() % 60)))"
   ]
  },
  {
   "cell_type": "code",
   "execution_count": 22,
   "metadata": {},
   "outputs": [],
   "source": [
    "men_third_place_team['Score'] = pd.to_numeric(men_third_place_team['Score'])"
   ]
  },
  {
   "cell_type": "code",
   "execution_count": 23,
   "metadata": {},
   "outputs": [
    {
     "data": {
      "text/plain": [
       "117.33333333333333"
      ]
     },
     "execution_count": 23,
     "metadata": {},
     "output_type": "execute_result"
    }
   ],
   "source": [
    "men_third_place_team['Score'].mean()"
   ]
  },
  {
   "cell_type": "code",
   "execution_count": null,
   "metadata": {},
   "outputs": [],
   "source": []
  }
 ],
 "metadata": {
  "kernelspec": {
   "display_name": "Python 3",
   "language": "python",
   "name": "python3"
  },
  "language_info": {
   "codemirror_mode": {
    "name": "ipython",
    "version": 3
   },
   "file_extension": ".py",
   "mimetype": "text/x-python",
   "name": "python",
   "nbconvert_exporter": "python",
   "pygments_lexer": "ipython3",
   "version": "3.8.5"
  }
 },
 "nbformat": 4,
 "nbformat_minor": 4
}
